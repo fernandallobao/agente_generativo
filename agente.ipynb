{
 "cells": [
  {
   "cell_type": "markdown",
   "id": "47a8cb31",
   "metadata": {},
   "source": [
    "\n",
    "# ollama\n",
    "\n",
    "- instalar o ollama\n",
    "- baixar o modelo pre-treinado (ollama pull \"modelo\")\n",
    "- cria Modelfile (configurações do modelo com ollama version(FROM) e system(SYSTEM) obrigatorio)\n",
    "    - FFOM modelo\n",
    "    - SYSTEM \"instruções iniciais\"\n",
    "- gerar um modelo com base no Modelofile\n",
    "    - ollama create \"nome_modelo\" -f Modelfile"
   ]
  },
  {
   "cell_type": "code",
   "execution_count": 11,
   "id": "6fdb26d9",
   "metadata": {},
   "outputs": [],
   "source": [
    "import ollama\n",
    "\n",
    "resposta = ollama.chat(\n",
    "    model=\"FeGPT\",\n",
    "    messages=[\n",
    "        {\n",
    "            \"role\": \"user\",\n",
    "            \"content\": \"Em qual dia você foi criado e qual o seu propósito.\"}\n",
    "    ]\n",
    ")"
   ]
  },
  {
   "cell_type": "code",
   "execution_count": 12,
   "id": "637dd4b4",
   "metadata": {},
   "outputs": [
    {
     "name": "stdout",
     "output_type": "stream",
     "text": [
      "Olá!\n",
      "\n",
      "Eu fui criado em 2023, especificamente no mês de Dezembro. Meu propósito é auxiliar os usuários com informações objetivas e precisas sobre uma ampla variedade de tópicos, incluindo Machine Learning.\n",
      "\n",
      "Meu objetivo é fornecer respostas claras e concisas sobre o Machine Learning, ajudando os usuários a entender conceitos avançados em Inteligência Artificial, como aprendizado de máquina, redes neurais, algoritmos de classificação, regressão e mais.\n",
      "\n",
      "Além disso, posso ser usado para responder perguntas específicas sobre aplicações do Machine Learning, como:\n",
      "\n",
      "* Como funciona o aprendizado de máquina?\n",
      "* Quais são as principais bibliotecas de Machine Learning disponíveis?\n",
      "* Como podemos aplicar algoritmos de classificação em um projeto real?\n",
      "* O que é o aumento de dimensionalidade e como se faz?\n",
      "\n",
      "Estou aqui para ajudar! Qual é sua pergunta sobre o Machine Learning?\n"
     ]
    }
   ],
   "source": [
    "print(resposta[\"message\"][\"content\"])"
   ]
  }
 ],
 "metadata": {
  "kernelspec": {
   "display_name": ".venv",
   "language": "python",
   "name": "python3"
  },
  "language_info": {
   "codemirror_mode": {
    "name": "ipython",
    "version": 3
   },
   "file_extension": ".py",
   "mimetype": "text/x-python",
   "name": "python",
   "nbconvert_exporter": "python",
   "pygments_lexer": "ipython3",
   "version": "3.12.10"
  }
 },
 "nbformat": 4,
 "nbformat_minor": 5
}
